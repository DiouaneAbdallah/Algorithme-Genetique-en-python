{
 "cells": [
  {
   "cell_type": "markdown",
   "metadata": {},
   "source": [
    "# Algorithme Génétique"
   ]
  },
  {
   "cell_type": "markdown",
   "metadata": {},
   "source": [
    "En recherche opérationnelle, l’Algorithme Génétique est une métaheuristique de la grande famille des algorithmes d’évolution (Evolutionary Algorithms) qui offrent l’avantage de fournir des solutions de très grande qualité en un temps raisonnable ; l’inconvénient est qu’il n’y a aucune garantie que la solution soit l’optimum global."
   ]
  },
  {
   "cell_type": "markdown",
   "metadata": {},
   "source": [
    "![algo genetic](https://i0.wp.com/ledatascientist.com/wp-content/uploads/2020/10/Etapes-du-GA.png)"
   ]
  },
  {
   "cell_type": "markdown",
   "metadata": {},
   "source": [
    "[![Open In Colab](https://colab.research.google.com/assets/colab-badge.svg)](https://colab.research.google.com/github/DiouaneAbdallah/Algorithme-Genetique-en-python/blob/main/GeneticAlgo.ipynb)"
   ]
  },
  {
   "cell_type": "markdown",
   "metadata": {},
   "source": [
    "---"
   ]
  },
  {
   "cell_type": "code",
   "execution_count": 1,
   "metadata": {},
   "outputs": [],
   "source": [
    "import random\n",
    "import numpy as np"
   ]
  },
  {
   "cell_type": "code",
   "execution_count": 2,
   "metadata": {},
   "outputs": [],
   "source": [
    "def profit_t(ind, profit):\n",
    "    return np.array(ind).dot(np.array(profit))"
   ]
  },
  {
   "cell_type": "code",
   "execution_count": 3,
   "metadata": {},
   "outputs": [],
   "source": [
    "def profit_tot(pop, profit):\n",
    "    pro = []\n",
    "    for p in pop:\n",
    "        pro.append(profit_t(p, profit))\n",
    "    return pro"
   ]
  },
  {
   "cell_type": "markdown",
   "metadata": {},
   "source": [
    "### Génération de la population"
   ]
  },
  {
   "cell_type": "code",
   "execution_count": 4,
   "metadata": {},
   "outputs": [],
   "source": [
    "def generer(nb, taille, capacite, poids):\n",
    "    population = np.zeros((nb, taille)).astype(int)\n",
    "    for i in range(nb):\n",
    "        rnd = random.randint(0, taille)\n",
    "        population[i, 0:rnd] = 1\n",
    "        np.random.shuffle(population[i])\n",
    "        if fitness(population[i], poids)>capacite:\n",
    "            i -= 1\n",
    "    return population"
   ]
  },
  {
   "cell_type": "markdown",
   "metadata": {},
   "source": [
    "### Évaluation : calcul de la valeur du fitness"
   ]
  },
  {
   "cell_type": "code",
   "execution_count": 5,
   "metadata": {},
   "outputs": [],
   "source": [
    "def fitness(ind ,poids):\n",
    "    return np.array(ind).dot(np.array(poids))"
   ]
  },
  {
   "cell_type": "markdown",
   "metadata": {},
   "source": [
    "### Sélection à la Roulette"
   ]
  },
  {
   "cell_type": "code",
   "execution_count": 6,
   "metadata": {},
   "outputs": [],
   "source": [
    "def roulette(pop, profit):\n",
    "    fitnesses = []\n",
    "    for p in pop:\n",
    "        fitnesses.append(profit_t(p, profit))\n",
    "        \n",
    "    somme = float(sum(fitnesses))\n",
    "    \n",
    "    rel_fitness = [f/somme for f in fitnesses]\n",
    "    probs = [sum(rel_fitness[:i+1]) for i in range(len(rel_fitness))]\n",
    "    new_population = []\n",
    "    for n in range(2):\n",
    "        r = random.random()\n",
    "        for (i, individual) in enumerate(pop):\n",
    "            if r <= probs[i] :\n",
    "                new_population.append(individual)\n",
    "                break\n",
    "    return new_population"
   ]
  },
  {
   "cell_type": "markdown",
   "metadata": {},
   "source": [
    "### Croisement & Mutation"
   ]
  },
  {
   "cell_type": "code",
   "execution_count": 7,
   "metadata": {},
   "outputs": [],
   "source": [
    "def croisement(p1, p2):\n",
    "    n = len(p1)\n",
    "    rnd = random.randint(0, n-1)\n",
    "    return np.concatenate((p1[:rnd],p2[rnd:])), np.concatenate((p2[:rnd],p1[rnd:]))"
   ]
  },
  {
   "cell_type": "code",
   "execution_count": 8,
   "metadata": {},
   "outputs": [],
   "source": [
    "def mutation(ind, poids, capacite):\n",
    "    og = ind\n",
    "    n = len(ind)\n",
    "    while True:\n",
    "        rnd = random.randint(0, n-1)\n",
    "        ind[rnd] = 1 -ind[rnd]\n",
    "        if fitness(ind, poids) <= capacite: \n",
    "            break\n",
    "        else:\n",
    "            ind = og\n",
    "    return ind"
   ]
  },
  {
   "cell_type": "markdown",
   "metadata": {},
   "source": []
  },
  {
   "cell_type": "code",
   "execution_count": 9,
   "metadata": {},
   "outputs": [],
   "source": [
    "def GA(nb, taille, capacite, poids, profit, afficher):\n",
    "    Gen = generer(nb, taille, capacite, poids)\n",
    "    The_best_of_all = np.array([])\n",
    "    The_best_score = 0\n",
    "    best_score_progress = []\n",
    "    for j in range(100):\n",
    "        next_Gen = []\n",
    "        \n",
    "        parents = roulette(Gen, profit)\n",
    "        child_1, child_2 = croisement(parents[0], parents[1])\n",
    "        child_3 = mutation(child_1, poids, capacite)\n",
    "        child_4 = mutation(child_2, poids, capacite)\n",
    "        \n",
    "        next_Gen.append(child_1)\n",
    "        next_Gen.append(child_2)\n",
    "        next_Gen.append(child_3)\n",
    "        next_Gen.append(child_4)\n",
    "            \n",
    "        Gen = np.array(next_Gen)\n",
    "        best_score = 0\n",
    "        The_best = np.array([])\n",
    "        for g in Gen:\n",
    "            if profit_t(g, profit) >= best_score:\n",
    "                best_score = profit_t(g, profit)\n",
    "                The_best = g\n",
    "            \n",
    "        scores = profit_tot(Gen, profit)\n",
    "        \n",
    "        if best_score >= The_best_score:\n",
    "            The_best_score = best_score\n",
    "            The_best_of_all = The_best \n",
    "        \n",
    "        best_score_progress.append(best_score)\n",
    "        if afficher:\n",
    "            print(\"Iteration : {} ,Score : {} ,The best : {}\".format(j, best_score, The_best.tolist()))\n",
    "    print(\"\\n \\nThe best score is : {} ,Ind : {} \".format(The_best_score, The_best_of_all))"
   ]
  },
  {
   "cell_type": "markdown",
   "metadata": {},
   "source": [
    "### Exemples"
   ]
  },
  {
   "cell_type": "code",
   "execution_count": 10,
   "metadata": {},
   "outputs": [],
   "source": [
    "nb = 4\n",
    "taille = 5\n",
    "capacite = 20\n",
    "poids = [4, 8, 7, 3, 5]\n",
    "profit = [12, 14, 9, 20, 10]"
   ]
  },
  {
   "cell_type": "code",
   "execution_count": 12,
   "metadata": {},
   "outputs": [
    {
     "name": "stdout",
     "output_type": "stream",
     "text": [
      "Iteration : 0 ,Score : 46 ,The best : [1, 1, 0, 1, 0]\n",
      "Iteration : 1 ,Score : 32 ,The best : [1, 0, 0, 1, 0]\n",
      "Iteration : 2 ,Score : 20 ,The best : [0, 0, 0, 1, 0]\n",
      "Iteration : 3 ,Score : 30 ,The best : [0, 0, 0, 1, 1]\n",
      "Iteration : 4 ,Score : 44 ,The best : [0, 1, 0, 1, 1]\n",
      "Iteration : 5 ,Score : 34 ,The best : [0, 1, 0, 1, 0]\n",
      "Iteration : 6 ,Score : 20 ,The best : [0, 0, 0, 1, 0]\n",
      "Iteration : 7 ,Score : 30 ,The best : [0, 0, 0, 1, 1]\n",
      "Iteration : 8 ,Score : 20 ,The best : [0, 0, 0, 1, 0]\n",
      "Iteration : 9 ,Score : 32 ,The best : [1, 0, 0, 1, 0]\n",
      "Iteration : 10 ,Score : 42 ,The best : [1, 0, 0, 1, 1]\n",
      "Iteration : 11 ,Score : 30 ,The best : [0, 0, 0, 1, 1]\n",
      "Iteration : 12 ,Score : 20 ,The best : [0, 0, 0, 1, 0]\n",
      "Iteration : 13 ,Score : 34 ,The best : [0, 1, 0, 1, 0]\n",
      "Iteration : 14 ,Score : 44 ,The best : [0, 1, 0, 1, 1]\n",
      "Iteration : 15 ,Score : 56 ,The best : [1, 1, 0, 1, 1]\n",
      "Iteration : 16 ,Score : 46 ,The best : [1, 1, 0, 1, 0]\n",
      "Iteration : 17 ,Score : 35 ,The best : [1, 1, 1, 0, 0]\n",
      "Iteration : 18 ,Score : 41 ,The best : [1, 0, 1, 1, 0]\n",
      "Iteration : 19 ,Score : 26 ,The best : [1, 1, 0, 0, 0]\n",
      "Iteration : 20 ,Score : 14 ,The best : [0, 1, 0, 0, 0]\n",
      "Iteration : 21 ,Score : 29 ,The best : [0, 0, 1, 1, 0]\n",
      "Iteration : 22 ,Score : 39 ,The best : [0, 0, 1, 1, 1]\n",
      "Iteration : 23 ,Score : 39 ,The best : [0, 0, 1, 1, 1]\n",
      "Iteration : 24 ,Score : 39 ,The best : [0, 0, 1, 1, 1]\n",
      "Iteration : 25 ,Score : 41 ,The best : [1, 0, 1, 1, 0]\n",
      "Iteration : 26 ,Score : 51 ,The best : [1, 0, 1, 1, 1]\n",
      "Iteration : 27 ,Score : 51 ,The best : [1, 0, 1, 1, 1]\n",
      "Iteration : 28 ,Score : 32 ,The best : [1, 0, 0, 1, 0]\n",
      "Iteration : 29 ,Score : 30 ,The best : [0, 0, 0, 1, 1]\n",
      "Iteration : 30 ,Score : 20 ,The best : [0, 0, 0, 1, 0]\n",
      "Iteration : 31 ,Score : 30 ,The best : [0, 0, 0, 1, 1]\n",
      "Iteration : 32 ,Score : 32 ,The best : [1, 0, 0, 1, 0]\n",
      "Iteration : 33 ,Score : 43 ,The best : [0, 1, 1, 1, 0]\n",
      "Iteration : 34 ,Score : 23 ,The best : [0, 1, 1, 0, 0]\n",
      "Iteration : 35 ,Score : 14 ,The best : [0, 1, 0, 0, 0]\n",
      "Iteration : 36 ,Score : 21 ,The best : [1, 0, 1, 0, 0]\n",
      "Iteration : 37 ,Score : 9 ,The best : [0, 0, 1, 0, 0]\n",
      "Iteration : 38 ,Score : 19 ,The best : [0, 0, 1, 0, 1]\n",
      "Iteration : 39 ,Score : 9 ,The best : [0, 0, 1, 0, 0]\n",
      "Iteration : 40 ,Score : 23 ,The best : [0, 1, 1, 0, 0]\n",
      "Iteration : 41 ,Score : 35 ,The best : [1, 1, 1, 0, 0]\n",
      "Iteration : 42 ,Score : 26 ,The best : [1, 1, 0, 0, 0]\n",
      "Iteration : 43 ,Score : 46 ,The best : [1, 1, 0, 1, 0]\n",
      "Iteration : 44 ,Score : 56 ,The best : [1, 1, 0, 1, 1]\n",
      "Iteration : 45 ,Score : 56 ,The best : [1, 1, 0, 1, 1]\n",
      "Iteration : 46 ,Score : 46 ,The best : [1, 1, 0, 1, 0]\n",
      "Iteration : 47 ,Score : 56 ,The best : [1, 1, 0, 1, 1]\n",
      "Iteration : 48 ,Score : 44 ,The best : [0, 1, 0, 1, 1]\n",
      "Iteration : 49 ,Score : 56 ,The best : [1, 1, 0, 1, 1]\n",
      "Iteration : 50 ,Score : 56 ,The best : [1, 1, 0, 1, 1]\n",
      "Iteration : 51 ,Score : 36 ,The best : [1, 1, 0, 0, 1]\n",
      "Iteration : 52 ,Score : 56 ,The best : [1, 1, 0, 1, 1]\n",
      "Iteration : 53 ,Score : 44 ,The best : [0, 1, 0, 1, 1]\n",
      "Iteration : 54 ,Score : 56 ,The best : [1, 1, 0, 1, 1]\n",
      "Iteration : 55 ,Score : 46 ,The best : [1, 1, 0, 1, 0]\n",
      "Iteration : 56 ,Score : 32 ,The best : [1, 0, 0, 1, 0]\n",
      "Iteration : 57 ,Score : 43 ,The best : [0, 1, 1, 1, 0]\n",
      "Iteration : 58 ,Score : 43 ,The best : [0, 1, 1, 1, 0]\n",
      "Iteration : 59 ,Score : 23 ,The best : [0, 1, 1, 0, 0]\n",
      "Iteration : 60 ,Score : 35 ,The best : [1, 1, 1, 0, 0]\n",
      "Iteration : 61 ,Score : 36 ,The best : [1, 1, 0, 0, 1]\n",
      "Iteration : 62 ,Score : 26 ,The best : [1, 1, 0, 0, 0]\n",
      "Iteration : 63 ,Score : 36 ,The best : [1, 1, 0, 0, 1]\n",
      "Iteration : 64 ,Score : 26 ,The best : [1, 1, 0, 0, 0]\n",
      "Iteration : 65 ,Score : 23 ,The best : [0, 1, 1, 0, 0]\n",
      "Iteration : 66 ,Score : 33 ,The best : [0, 1, 1, 0, 1]\n",
      "Iteration : 67 ,Score : 43 ,The best : [0, 1, 1, 1, 0]\n",
      "Iteration : 68 ,Score : 29 ,The best : [0, 0, 1, 1, 0]\n",
      "Iteration : 69 ,Score : 39 ,The best : [0, 0, 1, 1, 1]\n",
      "Iteration : 70 ,Score : 33 ,The best : [0, 1, 1, 0, 1]\n",
      "Iteration : 71 ,Score : 44 ,The best : [0, 1, 0, 1, 1]\n",
      "Iteration : 72 ,Score : 34 ,The best : [0, 1, 0, 1, 0]\n",
      "Iteration : 73 ,Score : 31 ,The best : [1, 0, 1, 0, 1]\n",
      "Iteration : 74 ,Score : 26 ,The best : [1, 1, 0, 0, 0]\n",
      "Iteration : 75 ,Score : 36 ,The best : [1, 1, 0, 0, 1]\n",
      "Iteration : 76 ,Score : 56 ,The best : [1, 1, 0, 1, 1]\n",
      "Iteration : 77 ,Score : 31 ,The best : [1, 0, 1, 0, 1]\n",
      "Iteration : 78 ,Score : 51 ,The best : [1, 0, 1, 1, 1]\n",
      "Iteration : 79 ,Score : 31 ,The best : [1, 0, 1, 0, 1]\n",
      "Iteration : 80 ,Score : 56 ,The best : [1, 1, 0, 1, 1]\n",
      "Iteration : 81 ,Score : 51 ,The best : [1, 0, 1, 1, 1]\n",
      "Iteration : 82 ,Score : 41 ,The best : [1, 0, 1, 1, 0]\n",
      "Iteration : 83 ,Score : 32 ,The best : [1, 0, 0, 1, 0]\n",
      "Iteration : 84 ,Score : 20 ,The best : [0, 0, 0, 1, 0]\n",
      "Iteration : 85 ,Score : 34 ,The best : [0, 1, 0, 1, 0]\n",
      "Iteration : 86 ,Score : 44 ,The best : [0, 1, 0, 1, 1]\n",
      "Iteration : 87 ,Score : 33 ,The best : [0, 1, 1, 0, 1]\n",
      "Iteration : 88 ,Score : 43 ,The best : [0, 1, 1, 1, 0]\n",
      "Iteration : 89 ,Score : 41 ,The best : [1, 0, 1, 1, 0]\n",
      "Iteration : 90 ,Score : 46 ,The best : [1, 1, 0, 1, 0]\n",
      "Iteration : 91 ,Score : 43 ,The best : [0, 1, 1, 1, 0]\n",
      "Iteration : 92 ,Score : 42 ,The best : [1, 0, 0, 1, 1]\n",
      "Iteration : 93 ,Score : 56 ,The best : [1, 1, 0, 1, 1]\n",
      "Iteration : 94 ,Score : 42 ,The best : [1, 0, 0, 1, 1]\n",
      "Iteration : 95 ,Score : 31 ,The best : [1, 0, 1, 0, 1]\n",
      "Iteration : 96 ,Score : 46 ,The best : [1, 1, 0, 1, 0]\n",
      "Iteration : 97 ,Score : 39 ,The best : [0, 0, 1, 1, 1]\n",
      "Iteration : 98 ,Score : 42 ,The best : [1, 0, 0, 1, 1]\n",
      "Iteration : 99 ,Score : 42 ,The best : [1, 0, 0, 1, 1]\n",
      "\n",
      " \n",
      "The best score is : 56 ,Ind : [1 1 0 1 1] \n"
     ]
    }
   ],
   "source": [
    "GA(nb, taille, capacite, poids, profit, afficher=True)"
   ]
  },
  {
   "cell_type": "code",
   "execution_count": 38,
   "metadata": {},
   "outputs": [],
   "source": [
    "nb = 4\n",
    "taille = 10\n",
    "capacite = 165\n",
    "poids  = [23, 31, 29, 44, 53, 38, 63, 85, 89, 82]\n",
    "profit = [92, 57, 49, 68, 60, 43, 67, 84, 87, 72]\n",
    "\n",
    "#OPtimal = [1, 1, 1, 1, 0, 1, 0, 0, 0, 0]"
   ]
  },
  {
   "cell_type": "code",
   "execution_count": 39,
   "metadata": {
    "scrolled": false
   },
   "outputs": [
    {
     "name": "stdout",
     "output_type": "stream",
     "text": [
      "\n",
      " \n",
      "The best score is : 309 ,Ind : [1 1 1 1 0 1 0 0 0 0] \n"
     ]
    }
   ],
   "source": [
    "GA(nb, taille, capacite, poids, profit, afficher=False)"
   ]
  },
  {
   "cell_type": "code",
   "execution_count": 40,
   "metadata": {},
   "outputs": [],
   "source": [
    "nb = 4\n",
    "taille = 5\n",
    "capacite = 26\n",
    "poids  = [12, 7 , 11, 8 , 9 ]\n",
    "profit = [24, 13, 23, 15, 16]\n",
    "\n",
    "#OPtimal = [0, 1, 1, 1, 0]"
   ]
  },
  {
   "cell_type": "code",
   "execution_count": 43,
   "metadata": {},
   "outputs": [
    {
     "name": "stdout",
     "output_type": "stream",
     "text": [
      "\n",
      " \n",
      "The best score is : 51 ,Ind : [0 1 1 1 0] \n"
     ]
    }
   ],
   "source": [
    "GA(nb, taille, capacite, poids, profit, afficher=False)"
   ]
  }
 ],
 "metadata": {
  "kernelspec": {
   "display_name": "Python 3",
   "language": "python",
   "name": "python3"
  },
  "language_info": {
   "codemirror_mode": {
    "name": "ipython",
    "version": 3
   },
   "file_extension": ".py",
   "mimetype": "text/x-python",
   "name": "python",
   "nbconvert_exporter": "python",
   "pygments_lexer": "ipython3",
   "version": "3.7.1"
  }
 },
 "nbformat": 4,
 "nbformat_minor": 2
}
